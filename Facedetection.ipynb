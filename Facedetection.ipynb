{
 "cells": [
  {
   "cell_type": "code",
   "execution_count": null,
   "metadata": {},
   "outputs": [],
   "source": [
    "pip install mtcnn"
   ]
  },
  {
   "cell_type": "code",
   "execution_count": null,
   "metadata": {},
   "outputs": [],
   "source": [
    "pip install tensorflow"
   ]
  },
  {
   "cell_type": "code",
   "execution_count": null,
   "metadata": {},
   "outputs": [],
   "source": [
    "pip install cmake"
   ]
  },
  {
   "cell_type": "code",
   "execution_count": null,
   "metadata": {},
   "outputs": [],
   "source": [
    "pip install face_recognition"
   ]
  },
  {
   "cell_type": "code",
   "execution_count": null,
   "metadata": {},
   "outputs": [],
   "source": [
    "import mtcnn\n",
    "from mtcnn.mtcnn import MTCNN\n",
    "import cv2\n",
    "import numpy as np\n",
    "# face detection with mtcnn on a photograph\n",
    "from matplotlib import pyplot\n",
    "from matplotlib.patches import Rectangle\n",
    "import face_recognition\n",
    "print(mtcnn.__version__)"
   ]
  },
  {
   "cell_type": "code",
   "execution_count": null,
   "metadata": {},
   "outputs": [],
   "source": [
    "def draw_image_with_boxes(frame, result_list,name):\n",
    "\n",
    "\tfor result in result_list:\n",
    "\t\t# get coordinates\n",
    "\t\tx1, y1, width, height = result['box']\n",
    "\t\tif x1<0:\n",
    "\t\t\tx1=0\n",
    "\t\tx2, y2 = x1 + width, y1 + height\n",
    "\t\tcv2.rectangle(frame, (x1,y1),(x2,y2), (0, 0, 255), 2)\n",
    "\t\tfont = cv2.FONT_HERSHEY_DUPLEX\n",
    "\t\tcv2.putText(frame, name, (x1 + 6, y1 - 6), font, 0.5, (255, 255, 255), 1)\n",
    "\t# show the plot\n",
    "\tcv2.imshow('Video', frame)"
   ]
  },
  {
   "cell_type": "code",
   "execution_count": null,
   "metadata": {},
   "outputs": [],
   "source": [
    "def encodeFaces(frame, result_list):\n",
    "\tencodedDetectedFaces=[]\n",
    "\tfor result in result_list:\n",
    "\t\t# get coordinates\n",
    "\t\tx1, y1, width, height = result['box']\n",
    "\t\tconfidence = result['confidence']\n",
    "\t\tprint(confidence)\n",
    "\t\tif confidence < 0.91:\n",
    "\t\t\tcontinue\n",
    "\t\tif x1<0:\n",
    "\t\t\tx1=0\n",
    "\t\tx2, y2 = x1 + width, y1 + height\n",
    "        #encode faces\n",
    "\t\tknown_face_locations=[(0, width+10, height-10, 0)]\n",
    "\t\tret = face_recognition.face_encodings(frame[y1:y2, x1:x2],known_face_locations)\n",
    "\t\tencodedDetectedFaces.append(ret)\n",
    "\t\t# plot face\n",
    "\t\t#pyplot.imshow(data[y1:y2, x1:x2])\n",
    "\t# show the plot\n",
    "\treturn encodedDetectedFaces "
   ]
  },
  {
   "cell_type": "code",
   "execution_count": null,
   "metadata": {},
   "outputs": [],
   "source": [
    "def main():\n",
    "\t# Open the device at the ID 0\n",
    "\tcap = cv2.VideoCapture(0)\n",
    "\t#Check whether user selected camera is opened successfully.\n",
    "\tif not (cap.isOpened()):\n",
    "\t\tprint('Could not open video device')\n",
    "\t# create the detector, using default weights\n",
    "\t#detector = MTCNN()\n",
    "\t#Loop through frames\n",
    "\twhile(True):\n",
    "\t\t# Capture frame-by-frame\n",
    "\t\tret, frame = cap.read()\n",
    "\t\t# detect faces in the image\n",
    "\t\tfaces = detector.detect_faces(frame)\n",
    "\t\tencodedfaces=encodeFaces(frame, faces)\n",
    "\t\tprint(len(encodedfaces))\n",
    "\t\tprint(encodedfaces)\n",
    "\t\tif(len(encodedfaces)==0 | len(database)==0):\n",
    "\t\t\tprint('none')\n",
    "\t\t\tcontinue\n",
    "\t\tfor encodedface in encodedfaces:\n",
    "\t\t\tmin_dist,name = who_is_it(encodedface, database)\n",
    "\t\t\tdraw_image_with_boxes(frame, faces,name)\n",
    "\t\t#Waits for a user input to quit the application\n",
    "\t\tif cv2.waitKey(1) & 0xFF == ord('q'):\n",
    "\t\t\tbreak\n",
    "\t#release the camera\n",
    "\tcap.release()\n",
    "\t#close all the windows \n",
    "\tcv2.destroyAllWindows()"
   ]
  },
  {
   "cell_type": "code",
   "execution_count": null,
   "metadata": {},
   "outputs": [],
   "source": [
    "def getEncoded(filename):\n",
    "\t#image = face_recognition.load_image_file(fileName)\n",
    "\timage = pyplot.imread(filename)\n",
    "\tfaces = detector.detect_faces(image)\n",
    "\tif(len(faces)==0):\n",
    "\t\treturn\n",
    "\tresult=faces[0]\n",
    "#for result in faces:\n",
    "# get coordinates\n",
    "\tx1, y1, width, height = result['box']\n",
    "\tif x1<0:\n",
    "\t\tx1=0\n",
    "\tx2, y2 = x1 + width, y1 + height\n",
    "\tknown_face_locations=[(0, width+10, height-10, 0)]\n",
    "\tface_encoding = face_recognition.face_encodings(image[y1:y2, x1:x2],known_face_locations)[0]\n",
    "\treturn face_encoding\n"
   ]
  },
  {
   "cell_type": "code",
   "execution_count": null,
   "metadata": {},
   "outputs": [],
   "source": [
    "def who_is_it(encodedImage, database):\n",
    "            \n",
    "    min_dist = 100\n",
    "    identity=\"unknown\"\n",
    "    for (name, db_enc) in database.items():\n",
    "        print(name)\n",
    "        dist = np.linalg.norm(encodedImage-db_enc)\n",
    "        if dist < min_dist:\n",
    "            min_dist = dist\n",
    "            identity = name    \n",
    "    if min_dist > 0.7:\n",
    "        print(\"Not in the database.\")\n",
    "        min_dist=100\n",
    "        identity=\"unknown\"\n",
    "    else:\n",
    "        print (\"it's \" + str(identity) + \", the distance is \" + str(min_dist))\n",
    "    return min_dist, identity"
   ]
  },
  {
   "cell_type": "code",
   "execution_count": null,
   "metadata": {},
   "outputs": [],
   "source": [
    "detector = MTCNN()\n",
    "database = {}\n",
    "database[\"Hanna\"] = getEncoded(\"IMG_7239.jpg\")\n",
    "database[\"Naf\"] = getEncoded(\"test11.jpg\")\n",
    "main()"
   ]
  },
  {
   "cell_type": "code",
   "execution_count": null,
   "metadata": {},
   "outputs": [],
   "source": [
    "def captureOneFrame():\n",
    "\t# Open the device at the ID 0\n",
    "\tcap = cv2.VideoCapture(0)\n",
    "\t#Check whether user selected camera is opened successfully.\n",
    "\tif not (cap.isOpened()):\n",
    "\t\tprint('Could not open video device')\n",
    "\t# Capture frame-by-frame\n",
    "\tret, frame = cap.read()\n",
    "\t# detect faces in the image\n",
    "\tfaces = detector.detect_faces(frame)\n",
    "\tencodedfaces=encodeFaces(frame, faces)\n",
    "\tresult=faces[0]\n",
    "#for result in faces:\n",
    "# get coordinates\n",
    "\tx1, y1, width, height = result['box']\n",
    "\tif x1<0:\n",
    "\t\tx1=0\n",
    "\tx2, y2 = x1 + width, y1 + height\n",
    "\tknown_face_locations=[(0, width+10, height-10, 0)]\n",
    "\tface_encoding = face_recognition.face_encodings(frame[y1:y2, x1:x2],known_face_locations)[0]\n",
    "\tdatabase[\"nafiseh\"]=face_encoding"
   ]
  },
  {
   "cell_type": "code",
   "execution_count": null,
   "metadata": {},
   "outputs": [],
   "source": [
    "detector = MTCNN()\n",
    "database = {}\n",
    "database[\"Hanna\"] = getEncoded(\"IMG_7239.jpg\")\n",
    "captureOneFrame()"
   ]
  },
  {
   "cell_type": "code",
   "execution_count": null,
   "metadata": {},
   "outputs": [],
   "source": [
    "main()"
   ]
  },
  {
   "cell_type": "code",
   "execution_count": null,
   "metadata": {},
   "outputs": [],
   "source": [
    "database[\"nafiseh\"]"
   ]
  },
  {
   "cell_type": "code",
   "execution_count": null,
   "metadata": {},
   "outputs": [],
   "source": []
  }
 ],
 "metadata": {
  "kernelspec": {
   "display_name": "Python 3",
   "language": "python",
   "name": "python3"
  },
  "language_info": {
   "codemirror_mode": {
    "name": "ipython",
    "version": 3
   },
   "file_extension": ".py",
   "mimetype": "text/x-python",
   "name": "python",
   "nbconvert_exporter": "python",
   "pygments_lexer": "ipython3",
   "version": "3.7.4"
  }
 },
 "nbformat": 4,
 "nbformat_minor": 2
}
